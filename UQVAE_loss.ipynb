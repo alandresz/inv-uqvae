{
 "cells": [
  {
   "cell_type": "markdown",
   "id": "a40509a3",
   "metadata": {},
   "source": [
    "# Debugging UQ-VAE loss"
   ]
  },
  {
   "cell_type": "code",
   "execution_count": 1,
   "id": "0eb667e3",
   "metadata": {},
   "outputs": [],
   "source": [
    "from dataclasses import dataclass\n",
    "#from trainuqvae import train_uqvae\n",
    "import numpy as np\n",
    "from tqdm import tqdm\n",
    "from utils.quality import FoM\n",
    "import logging\n",
    "from tqdm import tqdm\n",
    "import matplotlib.pyplot as plt\n",
    "import time\n",
    "\n",
    "from utils.SLcheckpoint import load_ckp, save_ckp\n",
    "\n",
    "import torch\n",
    "import torch.nn as nn\n",
    "from torch.optim import Adam\n",
    "from torch.utils.data.dataloader import DataLoader\n",
    "from torch.utils.data import Dataset\n",
    "from torch.utils.data import random_split\n",
    "\n",
    "from uqvae import NNmodel\n",
    "from utils.genmatrices import genpriordist, genA, gendiagLe"
   ]
  },
  {
   "cell_type": "code",
   "execution_count": 2,
   "id": "3caf9498",
   "metadata": {},
   "outputs": [],
   "source": [
    "@dataclass\n",
    "class TrainingConfig:\n",
    "    \n",
    "    train = True\n",
    "    predict = False\n",
    "    numtest = 300\n",
    "    \n",
    "    # UQ-VAE parameters\n",
    "    image_size = 128  # the image size and shape\n",
    "    lamba = 0.5 # sacling parameters\n",
    "    l = 0.5e-3 # [m] characteristic length\n",
    "    s0 = 0.25 # prior standard deviation\n",
    "    eta0 = 0.5 # prior expected value\n",
    "    etae = 0 # noise mean value\n",
    "    semin = 1e-3 # min value of the noise standard deviation\n",
    "    semax = 5e-3 # max value of the noise standard deviation\n",
    "    \n",
    "    # Training parameters    \n",
    "    train_batch_size = 20\n",
    "    num_epochs = 200\n",
    "    learning_rate = 9e-4\n",
    "    val_percent = 0.2\n",
    "    \n",
    "    # OAT setup parameters\n",
    "    Ns = 36         # number of detectors\n",
    "    Nt = 1024       # number of time samples\n",
    "    dx = 115e-6     # pixel size  in the x direction [m] \n",
    "    nx = 128        # number of pixels in the x direction for a 2-D image region\n",
    "    Rs = 44e-3     # radius of the circunference where the detectors are placed [m]\n",
    "    arco = 360      # arc of the circunferencewhere the detectors are placed\n",
    "    vs = 1490       # speed of sound [m/s]\n",
    "    to = 21.5e-6    # initial time [s].\n",
    "    T = 25e-6       # durantion of the time window [s].\n",
    "    tf = to + T     # final time [s] \n",
    "    \n",
    "    # \n",
    "    cache_dir = './data/' \n",
    "    traindate = '24mar24'\n",
    "    \n",
    "    datadate = 't24mar24F'\n",
    "    \n",
    "    continuetrain = False\n",
    "    plotresults = False \n",
    "    \n",
    "    ckp_last='uqvae' + traindate + '.pth' # name of the file of the saved weights of the trained net\n",
    "    ckp_best='uqvae_best' + traindate + '.pth'\n",
    "    \n",
    "    logfilename = 'TrainingLog_UQVAE' + traindate + '.log' "
   ]
  },
  {
   "cell_type": "code",
   "execution_count": 3,
   "id": "72a7f8fb",
   "metadata": {},
   "outputs": [],
   "source": [
    "def gettraindata(cache_dir,datadate):\n",
    "    \n",
    "    print('Obtaining data for training...')\n",
    "    \n",
    "    X = np.load(cache_dir + 'Xdas' + datadate + '.npy')\n",
    "    Y = np.load(cache_dir + 'Y' + datadate + '.npy') \n",
    "    Z = np.load(cache_dir + 'ES' + datadate + '.npy') \n",
    "    \n",
    "    X = X.astype(np.float32)\n",
    "    Y = Y.astype(np.float32)\n",
    "    Z = Z.astype(np.float32)\n",
    "\n",
    "    print('done')\n",
    "    \n",
    "    return X,Y,Z"
   ]
  },
  {
   "cell_type": "code",
   "execution_count": 4,
   "id": "6dde59d4",
   "metadata": {},
   "outputs": [],
   "source": [
    "# Training hyperparameters\n",
    "config = TrainingConfig()"
   ]
  },
  {
   "cell_type": "code",
   "execution_count": 5,
   "id": "80a03905",
   "metadata": {},
   "outputs": [],
   "source": [
    "# Train parameters    \n",
    "batch_size = config.train_batch_size\n",
    "epochs = config.num_epochs\n",
    "lr = config.learning_rate\n",
    "ckp_last = config.ckp_last\n",
    "ckp_best = config.ckp_best\n",
    "cache_dir = config.cache_dir\n",
    "datadate = config.datadate\n",
    "logfilename = config.logfilename\n",
    "continuetrain = config.continuetrain\n",
    "plotresults = config.plotresults"
   ]
  },
  {
   "cell_type": "code",
   "execution_count": 6,
   "id": "b6b31f53",
   "metadata": {},
   "outputs": [
    {
     "name": "stdout",
     "output_type": "stream",
     "text": [
      "Device to be used: cuda\n"
     ]
    }
   ],
   "source": [
    "# Set device\n",
    "device = \"\"\n",
    "    \n",
    "if torch.cuda.is_available():\n",
    "    device = torch.device(\"cuda\")\n",
    "else:\n",
    "    device = torch.device(\"cpu\")\n",
    "print(f\"Device to be used: {device}\")"
   ]
  },
  {
   "cell_type": "code",
   "execution_count": 7,
   "id": "b6bef721",
   "metadata": {},
   "outputs": [
    {
     "name": "stdout",
     "output_type": "stream",
     "text": [
      "The number of parameters of the network to be trained is: 196269958\n"
     ]
    }
   ],
   "source": [
    "# Create the network    \n",
    "net = NNmodel().to(device=device)\n",
    "#print(net)\n",
    "    \n",
    "# Number of net parameters\n",
    "NoP = sum(p.numel() for p in net.parameters())\n",
    "print(f\"The number of parameters of the network to be trained is: {NoP}\")  "
   ]
  },
  {
   "cell_type": "code",
   "execution_count": 8,
   "id": "4ce9b2b1",
   "metadata": {},
   "outputs": [
    {
     "name": "stdout",
     "output_type": "stream",
     "text": [
      "Loading data...\n",
      "Obtaining data for training...\n",
      "done\n",
      "Shuffling data...\n"
     ]
    }
   ],
   "source": [
    "# Get data\n",
    "print('Loading data...')\n",
    "X,Y,Z = gettraindata(cache_dir,datadate)\n",
    "print('Shuffling data...')\n",
    "indpat = np.arange(0, Y.shape[0], dtype=int)  \n",
    "ida = np.random.permutation(indpat)\n",
    "X = X[ida, :, :]\n",
    "Y = Y[ida, :, :]\n",
    "Z = Z[ida, :, :]\n",
    "x = torch.as_tensor(X[0:batch_size,:,:]).type(torch.float32).to(device=device) \n",
    "y = torch.as_tensor(Y[0:batch_size,:,:]).type(torch.float32).to(device=device) \n",
    "z = torch.as_tensor(Z[0:batch_size,:,:]).type(torch.float32).to(device=device)"
   ]
  },
  {
   "cell_type": "code",
   "execution_count": 9,
   "id": "594ba47f",
   "metadata": {},
   "outputs": [
    {
     "data": {
      "text/plain": [
       "(<matplotlib.image.AxesImage at 0x7f7a421a3c40>,\n",
       " <matplotlib.colorbar.Colorbar at 0x7f7a420ff310>)"
      ]
     },
     "execution_count": 9,
     "metadata": {},
     "output_type": "execute_result"
    },
    {
     "data": {
      "image/png": "[encoded data removed]",
      "text/plain": [
       "<Figure size 1200x1200 with 2 Axes>"
      ]
     },
     "metadata": {},
     "output_type": "display_data"
    },
    {
     "data": {
      "image/png": "[encoded data removed]",
      "text/plain": [
       "<Figure size 640x480 with 2 Axes>"
      ]
     },
     "metadata": {},
     "output_type": "display_data"
    }
   ],
   "source": [
    "img = 2\n",
    "fig, axs = plt.subplots(1,2,figsize=(8,8),dpi=150)\n",
    "fig0 = axs[0].imshow(Y[img,:,:])\n",
    "fig1 = axs[1].imshow(X[img,:,:])\n",
    "#plt.colorbar(fig0)\n",
    "plt.figure(),\n",
    "plt.imshow(Z[img,:,:],cmap=\"RdBu_r\",interpolation=\"nearest\",aspect=\"auto\"),plt.colorbar()"
   ]
  },
  {
   "cell_type": "code",
   "execution_count": 10,
   "id": "6eebd638",
   "metadata": {},
   "outputs": [],
   "source": [
    "# Parameters and matrices of the UQVAE loss model\n",
    "lamba = config.lamba  # UQ-VAE scaling parameter\n",
    "etae = config.etae # noise mean value\n",
    "eta0 = config.eta0 # prior mean value\n",
    "dimS = (batch_size,1,config.Ns,config.Nt) # Sinogram shape\n",
    "dimI = (batch_size,1,config.nx,config.nx) # image shape"
   ]
  },
  {
   "cell_type": "code",
   "execution_count": 11,
   "id": "a0bee866",
   "metadata": {},
   "outputs": [
    {
     "name": "stdout",
     "output_type": "stream",
     "text": [
      "Elapsed time (minutes):  0.04877712316811085\n"
     ]
    }
   ],
   "source": [
    "# Covariance of the Gaussian Ornstein-Uhlenbeck distribution used as prior\n",
    "start = time.perf_counter()\n",
    "Gp0 = genpriordist(config)         \n",
    "Gp0 = torch.as_tensor(Gp0).type(torch.float32).to(device=device)\n",
    "end = time.perf_counter()\n",
    "print('Elapsed time (minutes): ',(end - start)/60)"
   ]
  },
  {
   "cell_type": "code",
   "execution_count": 12,
   "id": "9310ef63",
   "metadata": {},
   "outputs": [
    {
     "name": "stdout",
     "output_type": "stream",
     "text": [
      "Creating Forward Model Matrix...\n",
      "Creating SIR Matrix...\n",
      "with shot noise effect reduction...\n",
      "with angle sensitivity...\n"
     ]
    },
    {
     "name": "stderr",
     "output_type": "stream",
     "text": [
      "100%|██████████| 36864/36864 [00:32<00:00, 1128.01it/s]\n"
     ]
    },
    {
     "name": "stdout",
     "output_type": "stream",
     "text": [
      "Creating PA Matrix...\n",
      "Applying Time Derivative Operator...\n",
      "Applying detector impulse response...\n",
      "Normalization...\n",
      "done\n",
      "Elapsed time (minutes):  1.5384087583632209\n"
     ]
    }
   ],
   "source": [
    "start = time.perf_counter()\n",
    "print('Creating Forward Model Matrix...')\n",
    "#Ao =  np.ones((config.Nt*config.Ns,config.nx**2),dtype=np.float32)\n",
    "Ao = genA(config) # Forward model matrix\n",
    "Ao = Ao.todense()\n",
    "print('done')\n",
    "Ao = torch.as_tensor(Ao).type(torch.float32).to(device=device) \n",
    "end = time.perf_counter()\n",
    "print('Elapsed time (minutes): ',(end - start)/60)"
   ]
  },
  {
   "cell_type": "code",
   "execution_count": 13,
   "id": "360ef63f",
   "metadata": {},
   "outputs": [
    {
     "name": "stdout",
     "output_type": "stream",
     "text": [
      "Creating diagLe...\n",
      "done\n",
      "Elapsed time (minutes):  3.098993329331279e-05\n"
     ]
    }
   ],
   "source": [
    "start = time.perf_counter()\n",
    "print('Creating diagLe...')\n",
    "diagLe =  gendiagLe(config.Ns*config.Nt,config.semin,config.semax)\n",
    "print('done')\n",
    "diagLe = diagLe.to(device=device) \n",
    "end = time.perf_counter()\n",
    "print('Elapsed time (minutes): ',(end - start)/60)"
   ]
  },
  {
   "cell_type": "markdown",
   "id": "027f1ec5",
   "metadata": {},
   "source": [
    "## Get a first network output"
   ]
  },
  {
   "cell_type": "code",
   "execution_count": 14,
   "id": "ed7761a5",
   "metadata": {},
   "outputs": [
    {
     "name": "stdout",
     "output_type": "stream",
     "text": [
      "Elapsed time (minutes):  0.022601369601519157\n"
     ]
    }
   ],
   "source": [
    "start = time.perf_counter()\n",
    "m, logs2 = net(x)\n",
    "end = time.perf_counter()\n",
    "print('Elapsed time (minutes): ',(end - start)/60)"
   ]
  },
  {
   "cell_type": "code",
   "execution_count": 15,
   "id": "648d53e2",
   "metadata": {},
   "outputs": [
    {
     "name": "stdout",
     "output_type": "stream",
     "text": [
      "torch.Size([20, 128, 128])\n",
      "torch.Size([20, 128, 128])\n"
     ]
    }
   ],
   "source": [
    "print(m.shape)\n",
    "print(logs2.shape)"
   ]
  },
  {
   "cell_type": "markdown",
   "id": "70c3ed7d",
   "metadata": {},
   "source": [
    "## Train loss"
   ]
  },
  {
   "cell_type": "code",
   "execution_count": 16,
   "id": "97d0987f",
   "metadata": {},
   "outputs": [],
   "source": [
    "from utils.genmatrices import getdiagGs"
   ]
  },
  {
   "cell_type": "code",
   "execution_count": 17,
   "id": "db8dc3c6",
   "metadata": {},
   "outputs": [],
   "source": [
    "B = y.shape[0]"
   ]
  },
  {
   "cell_type": "markdown",
   "id": "27e83c70",
   "metadata": {},
   "source": [
    "$\\Gamma_{po|pt}$"
   ]
  },
  {
   "cell_type": "code",
   "execution_count": 18,
   "id": "f8433dc8",
   "metadata": {},
   "outputs": [
    {
     "name": "stdout",
     "output_type": "stream",
     "text": [
      "torch.Size([20, 16384])\n"
     ]
    }
   ],
   "source": [
    "diagGs = getdiagGs(logs2,device)\n",
    "print(diagGs.shape)"
   ]
  },
  {
   "cell_type": "markdown",
   "id": "1a5152ec",
   "metadata": {},
   "source": [
    "$L_{po|pt}$"
   ]
  },
  {
   "cell_type": "code",
   "execution_count": 19,
   "id": "4e359573",
   "metadata": {},
   "outputs": [
    {
     "name": "stdout",
     "output_type": "stream",
     "text": [
      "torch.Size([20, 16384])\n"
     ]
    }
   ],
   "source": [
    "#Ls2p = torch.linalg.cholesky(Gs) # [B,nx**2,nx**2]\n",
    "diagLs2 = torch.sqrt(diagGs) # [B,nx**2]\n",
    "print(diagLs2.shape)"
   ]
  },
  {
   "cell_type": "markdown",
   "id": "aa6f2623",
   "metadata": {},
   "source": [
    "$\\log(\\det(\\Gamma_{po|pt})$"
   ]
  },
  {
   "cell_type": "code",
   "execution_count": 20,
   "id": "4e961a7b",
   "metadata": {},
   "outputs": [
    {
     "name": "stdout",
     "output_type": "stream",
     "text": [
      "tensor([6680.4248, 5288.4868, 5724.0776, 6494.6025, 6226.9155, 4613.4902,\n",
      "        6962.5415, 5995.1738, 6309.3496, 6713.8057, 5881.8252, 5095.5244,\n",
      "        5728.8540, 6600.5830, 5273.8457, 7273.5195, 5636.4785, 7519.0269,\n",
      "        5584.6016, 6186.8931], device='cuda:0', grad_fn=<SumBackward1>)\n"
     ]
    }
   ],
   "source": [
    "#term11 = torch.log(torch.linalg.det(Gs)) # [B,]\n",
    "#term11 = torch.sum(torch.log(torch.diagonal(Gs, dim1=-2, dim2=-1))) # [B,] ---> caso matriz Gs diagonal\n",
    "term11 = torch.sum(torch.log(diagGs),1) # [B,]\n",
    "print(term11)"
   ]
  },
  {
   "cell_type": "markdown",
   "id": "dd5ddc7e",
   "metadata": {},
   "source": [
    "$\\text{normL2}\\left[ L_{po|pt} \\left(\\eta_{po|pt} - p_0 \\right) \\right]$"
   ]
  },
  {
   "cell_type": "code",
   "execution_count": 21,
   "id": "ca35614b",
   "metadata": {},
   "outputs": [
    {
     "name": "stdout",
     "output_type": "stream",
     "text": [
      "tensor([ 59240.8594,  28735.4082,  35194.2812,  88956.7891,  48087.1953,\n",
      "        108501.5703,  26042.6289, 166792.2812,  45544.7812,  37474.7852,\n",
      "         33987.3359,  25488.9219,  57333.8828,  70165.2578,  18473.4414,\n",
      "        145846.2969,  29501.9746, 120413.1641,  39509.8203,  37352.5938],\n",
      "       device='cuda:0', grad_fn=<SumBackward1>)\n"
     ]
    }
   ],
   "source": [
    "mmy = torch.flatten(m-y,start_dim=1) # [B,nx**2,]\n",
    "#term12 = torch.sum(torch.square(torch.einsum('bi,bi->bi',diagLs2,mmy)),1) # [B,]\n",
    "term12 = torch.sum(torch.square(torch.mul(diagLs2,mmy)),1) # [B,]\n",
    "print(term12)"
   ]
  },
  {
   "cell_type": "code",
   "execution_count": 22,
   "id": "c576d370",
   "metadata": {},
   "outputs": [
    {
     "name": "stdout",
     "output_type": "stream",
     "text": [
      "tensor([ 59240.8594,  28735.4082,  35194.2812,  88956.7891,  48087.1953,\n",
      "        108501.5703,  26042.6289, 166792.2812,  45544.7812,  37474.7852,\n",
      "         33987.3359,  25488.9219,  57333.8828,  70165.2578,  18473.4414,\n",
      "        145846.2969,  29501.9746, 120413.1641,  39509.8203,  37352.5938],\n",
      "       device='cuda:0', grad_fn=<SumBackward1>)\n"
     ]
    }
   ],
   "source": [
    "print(torch.sum(torch.square(torch.einsum('bi,bi->bi',diagLs2,mmy)),1))"
   ]
  },
  {
   "cell_type": "markdown",
   "id": "b82f0bc3",
   "metadata": {},
   "source": [
    "$\\frac{1-\\lambda}{\\lambda}\\left[ \\log(\\det(\\Gamma_{po|pt}) + \\text{normL2}\\left[ L_{po|pt} \\left(\\eta_{po|pt} - p_0 \\right) \\right] \\right]$"
   ]
  },
  {
   "cell_type": "code",
   "execution_count": 23,
   "id": "8d4443b5",
   "metadata": {},
   "outputs": [
    {
     "name": "stdout",
     "output_type": "stream",
     "text": [
      "tensor([ 65921.2812,  34023.8945,  40918.3594,  95451.3906,  54314.1094,\n",
      "        113115.0625,  33005.1719, 172787.4531,  51854.1328,  44188.5898,\n",
      "         39869.1602,  30584.4453,  63062.7383,  76765.8438,  23747.2871,\n",
      "        153119.8125,  35138.4531, 127932.1875,  45094.4219,  43539.4883],\n",
      "       device='cuda:0', grad_fn=<MulBackward0>)\n"
     ]
    }
   ],
   "source": [
    "term1 = ((1-lamba)/lamba) * (term11 + term12) # [B,]\n",
    "print(term1)"
   ]
  },
  {
   "cell_type": "markdown",
   "id": "2c86b754",
   "metadata": {},
   "source": [
    "$\\epsilon \\sim N(0,I_d)$"
   ]
  },
  {
   "cell_type": "code",
   "execution_count": 24,
   "id": "2905ca6a",
   "metadata": {},
   "outputs": [
    {
     "name": "stdout",
     "output_type": "stream",
     "text": [
      "torch.Size([128, 128])\n"
     ]
    }
   ],
   "source": [
    "eps = torch.normal(0,torch.eye(dimI[2])) # [nx,nx]\n",
    "#eps = eps.repeat(B,1,1) # [B,nx,nx]\n",
    "eps = eps.to(device=device)\n",
    "print(eps.shape)"
   ]
  },
  {
   "cell_type": "markdown",
   "id": "5dbd3b50",
   "metadata": {},
   "source": [
    "$\\tilde{p_0} = \\eta_{po|pt} + L_{po|pt}^T \\epsilon$"
   ]
  },
  {
   "cell_type": "code",
   "execution_count": 25,
   "id": "4509607a",
   "metadata": {},
   "outputs": [
    {
     "name": "stdout",
     "output_type": "stream",
     "text": [
      "torch.Size([20, 16384])\n"
     ]
    }
   ],
   "source": [
    "p0m = torch.flatten(m,start_dim=1) + torch.einsum('bi,i->bi', diagLs2,torch.flatten(eps)) # [B,nx**2]\n",
    "print(p0m.shape)"
   ]
  },
  {
   "cell_type": "markdown",
   "id": "e0f4bd76",
   "metadata": {},
   "source": [
    "$K \\, \\tilde{p_0}$"
   ]
  },
  {
   "cell_type": "code",
   "execution_count": 26,
   "id": "2f142cad",
   "metadata": {},
   "outputs": [
    {
     "name": "stdout",
     "output_type": "stream",
     "text": [
      "torch.Size([20, 36864])\n"
     ]
    }
   ],
   "source": [
    "#Sm = applyForwMat(p0m, Ao, dimS, dimI) # [B,Ns,Nt]\n",
    "#Sm = torch.matmul(Ao,p0m.T).T # ((Ns*Nt,nx*nx) @ (nx*nx,B)).T = (B,Ns*Nt)\n",
    "Sm = torch.einsum('ij,bj ->bi',Ao,p0m) # (B,Ns*Nt)\n",
    "maxSm = Sm.max(dim=-1,keepdim=True)[0]\n",
    "Smn = Sm/maxSm\n",
    "print(Smn.shape)"
   ]
  },
  {
   "cell_type": "markdown",
   "id": "7b8bb23a",
   "metadata": {},
   "source": [
    "$\\text{normL2}\\left[ L_{e} \\left(p_t  - K \\, \\tilde{p_0} - \\eta_e \\right) \\right]$"
   ]
  },
  {
   "cell_type": "code",
   "execution_count": 27,
   "id": "63ac0c68",
   "metadata": {},
   "outputs": [
    {
     "name": "stdout",
     "output_type": "stream",
     "text": [
      "tensor([376.1864, 387.2843,  75.7512, 193.8190, 480.9952, 100.8343, 588.0305,\n",
      "        189.9484, 612.4885, 583.3666, 679.8016, 328.5624, 427.0309, 169.1951,\n",
      "        409.0781, 422.6024, 214.3401, 465.8221, 134.3621, 527.1652],\n",
      "       device='cuda:0', grad_fn=<SumBackward1>)\n"
     ]
    }
   ],
   "source": [
    "SS = torch.flatten(z,start_dim=1)-Smn-etae # (B,Ns*Nt)\n",
    "SSe = torch.einsum('i,bi->bi', diagLe, SS)\n",
    "term2 = torch.sum(torch.square(SS),1) # [B,]\n",
    "print(term2)"
   ]
  },
  {
   "cell_type": "markdown",
   "id": "5a44c10c",
   "metadata": {},
   "source": [
    "$\\text{tr} \\left(\\Gamma_{po}^{-1} \\Gamma_{po|pt} \\right)$"
   ]
  },
  {
   "cell_type": "code",
   "execution_count": 28,
   "id": "4b99060d",
   "metadata": {},
   "outputs": [
    {
     "name": "stdout",
     "output_type": "stream",
     "text": [
      "tensor([ 6563.1074,  5396.3672,  5703.0586,  6909.2812,  7017.1758,  5708.7930,\n",
      "         6255.6562,  8499.5000,  6226.3633,  6530.5625,  5992.9688,  5044.1445,\n",
      "         6501.5840, 10064.5781,  5606.7715,  7783.5625,  6042.4453,  6126.1797,\n",
      "         6699.8242,  5780.5625], device='cuda:0', grad_fn=<SumBackward1>)\n"
     ]
    }
   ],
   "source": [
    "iGp0 = torch.linalg.inv(Gp0) # [N,N] ----> Se calcula una vez!!!\n",
    "term31 = torch.sum(torch.einsum('ij,bj->bi', iGp0,diagGs),1) # [B,]\n",
    "print(term31)\n",
    "\n",
    "# Otra forma de hacerlo\n",
    "#sumatoria(multil(elementos diagnal de cada una)"
   ]
  },
  {
   "cell_type": "markdown",
   "id": "251235ba",
   "metadata": {},
   "source": [
    "$\\text{normL2} \\left[ L_{po} \\left(\\eta_{po|pt} - \\eta_{po} \\right) \\right]$"
   ]
  },
  {
   "cell_type": "code",
   "execution_count": 29,
   "id": "93442acb",
   "metadata": {},
   "outputs": [
    {
     "name": "stdout",
     "output_type": "stream",
     "text": [
      "torch.Size([16384, 16384])\n"
     ]
    }
   ],
   "source": [
    "Lp0 = torch.linalg.cholesky(iGp0) \n",
    "print(Lp0.shape)"
   ]
  },
  {
   "cell_type": "code",
   "execution_count": 30,
   "id": "12a2f615",
   "metadata": {},
   "outputs": [
    {
     "name": "stdout",
     "output_type": "stream",
     "text": [
      "tensor([ -590.7017, -1106.9154,  -566.8257,  -554.0543, -1193.1990, -1220.5193,\n",
      "         -613.5221, -1007.8669,  -782.1757,  -830.0229,  -979.6731, -1206.5969,\n",
      "        -1205.1453, -1150.3093, -1383.6963,  -192.6510,  -936.7562,  -100.5640,\n",
      "        -1335.2263, -1072.3435], device='cuda:0', grad_fn=<SumBackward1>)\n"
     ]
    }
   ],
   "source": [
    "mF = torch.flatten(m,start_dim=1)\n",
    "term32 = torch.sum(torch.einsum('ij,bj->bi', Lp0,mF-eta0),1) # [B,]\n",
    "print(term32)"
   ]
  },
  {
   "cell_type": "markdown",
   "id": "7998229d",
   "metadata": {},
   "source": [
    "$\\log \\left( \\frac{\\det(\\Gamma_{po})}{\\det(\\Gamma_{po|pt})} \\right)$"
   ]
  },
  {
   "cell_type": "code",
   "execution_count": 31,
   "id": "74ff4019",
   "metadata": {},
   "outputs": [
    {
     "name": "stdout",
     "output_type": "stream",
     "text": [
      "tensor([-6783.7036, -5391.7656, -5827.3564, -6597.8813, -6330.1943, -4716.7690,\n",
      "        -7065.8203, -6098.4526, -6412.6284, -6817.0845, -5985.1040, -5198.8032,\n",
      "        -5832.1328, -6703.8618, -5377.1245, -7376.7983, -5739.7573, -7622.3057,\n",
      "        -5687.8804, -6290.1719], device='cuda:0', grad_fn=<SubBackward0>)\n"
     ]
    }
   ],
   "source": [
    "logdetGp0 = torch.log(torch.linalg.det(Gp0) + 2e-45) #  ----> el det da cero!!!!!!\n",
    "term33 = logdetGp0 - term11 # [B,]  \n",
    "print(term33)"
   ]
  },
  {
   "cell_type": "markdown",
   "id": "71424597",
   "metadata": {},
   "source": [
    "$\\text{tr} \\left(\\Gamma_{po}^{-1} \\Gamma_{po|pt} \\right) + \\text{normL2} \\left[ L_{po} \\left(\\eta_{po|pt} - \\eta_{po} \\right) \\right] + \\log \\left( \\frac{\\det(\\Gamma_{po})}{\\det(\\Gamma_{po|pt})} \\right)$"
   ]
  },
  {
   "cell_type": "code",
   "execution_count": 32,
   "id": "f5696bed",
   "metadata": {},
   "outputs": [
    {
     "name": "stdout",
     "output_type": "stream",
     "text": [
      "tensor([ -811.2979, -1102.3140,  -691.1235,  -242.6543,  -506.2178,  -228.4956,\n",
      "        -1423.6860,  1393.1802,  -968.4409, -1116.5449,  -971.8081, -1361.2556,\n",
      "         -535.6943,  2210.4067, -1154.0493,   214.1133,  -634.0684, -1596.6899,\n",
      "         -323.2827, -1581.9531], device='cuda:0', grad_fn=<AddBackward0>)\n"
     ]
    }
   ],
   "source": [
    "term3 = term31 + term32 + term33 # [B,]\n",
    "print(term3)"
   ]
  },
  {
   "cell_type": "code",
   "execution_count": 33,
   "id": "129dd364",
   "metadata": {},
   "outputs": [
    {
     "name": "stdout",
     "output_type": "stream",
     "text": [
      "tensor(67018.4062, device='cuda:0', grad_fn=<MulBackward0>)\n"
     ]
    }
   ],
   "source": [
    "loss = (1/B) * torch.sum(term1 + term2 + term3) # [1]\n",
    "print(loss)"
   ]
  },
  {
   "cell_type": "code",
   "execution_count": null,
   "id": "0ce863aa",
   "metadata": {},
   "outputs": [],
   "source": []
  }
 ],
 "metadata": {
  "kernelspec": {
   "display_name": "Python (torch-env)",
   "language": "python",
   "name": "torch-env"
  },
  "language_info": {
   "codemirror_mode": {
    "name": "ipython",
    "version": 3
   },
   "file_extension": ".py",
   "mimetype": "text/x-python",
   "name": "python",
   "nbconvert_exporter": "python",
   "pygments_lexer": "ipython3",
   "version": "3.9.16"
  }
 },
 "nbformat": 4,
 "nbformat_minor": 5
}
